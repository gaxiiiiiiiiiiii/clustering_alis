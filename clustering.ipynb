{
 "cells": [
  {
   "cell_type": "code",
   "execution_count": 1,
   "metadata": {
    "collapsed": true
   },
   "outputs": [],
   "source": [
    "from get_ranking import get_recent_article\n",
    "from Classifier import naivebayes\n",
    "from urllib.request import urlopen\n",
    "import json\n",
    "from bs4 import BeautifulSoup as bs\n",
    "import pickle"
   ]
  },
  {
   "cell_type": "code",
   "execution_count": 2,
   "metadata": {
    "collapsed": true
   },
   "outputs": [],
   "source": [
    "def get_text(article_id):\n",
    "    api_url = \"https://alis.to/api/articles/%s\"\n",
    "    raw_article_data  = urlopen(api_url % article_id).read().decode(\"utf-8\")\n",
    "    json_article_data = json.loads(raw_article_data)                    \n",
    "    body     = json_article_data[\"body\"]\n",
    "    text = bs(body,\"html5lib\",from_encoding=\"utf-8\").text.replace(\"\\n\",\"\").replace(\" \", \"\").replace(\"\\u3000\",\"\")\n",
    "    return text"
   ]
  },
  {
   "cell_type": "code",
   "execution_count": 3,
   "metadata": {
    "collapsed": false
   },
   "outputs": [],
   "source": [
    "articles = get_recent_article(date_span=1)"
   ]
  },
  {
   "cell_type": "code",
   "execution_count": 4,
   "metadata": {
    "collapsed": false
   },
   "outputs": [],
   "source": [
    "cl = naivebayes()\n",
    "with open('category_count.pickle', mode='rb') as f:\n",
    "    cl.cc = pickle.load(f)\n",
    "with open('feature_count.pickle', mode='rb') as f:\n",
    "    cl.fc = pickle.load(f)"
   ]
  },
  {
   "cell_type": "code",
   "execution_count": 26,
   "metadata": {
    "collapsed": false
   },
   "outputs": [
    {
     "name": "stderr",
     "output_type": "stream",
     "text": [
      "/Users/gaxi/.pyenv/versions/3.5.2/envs/jupyter/lib/python3.5/site-packages/bs4/__init__.py:146: UserWarning: You provided Unicode markup but also provided a value for from_encoding. Your from_encoding will be ignored.\n",
      "  warnings.warn(\"You provided Unicode markup but also provided a value for from_encoding. Your from_encoding will be ignored.\")\n"
     ]
    },
    {
     "name": "stdout",
     "output_type": "stream",
     "text": [
      "https://alis.to/articles/articles/3PYoxzgVAPeM\n",
      "https://alis.to/articles/articles/3Y1o8JVNg7Vo\n",
      "https://alis.to/articles/articles/3Njo054WkYxx\n"
     ]
    }
   ],
   "source": [
    "candidate = []\n",
    "for article in articles:\n",
    "    article_id = article[\"article_id\"]\n",
    "    article_url = \"https://alis.to/articles/articles/%s\" % article_id\n",
    "    text = get_text(article_id)\n",
    "    cl.setthreshold(\"tech\",10**20)\n",
    "    cat = cl.classify(text,default=\"non\")\n",
    "    if cat == \"tech\":\n",
    "        candidate.append(article_url)\n",
    "        print(article_url)"
   ]
  },
  {
   "cell_type": "code",
   "execution_count": null,
   "metadata": {
    "collapsed": true
   },
   "outputs": [],
   "source": []
  }
 ],
 "metadata": {
  "kernelspec": {
   "display_name": "Python 3",
   "language": "python",
   "name": "python3"
  },
  "language_info": {
   "codemirror_mode": {
    "name": "ipython",
    "version": 3
   },
   "file_extension": ".py",
   "mimetype": "text/x-python",
   "name": "python",
   "nbconvert_exporter": "python",
   "pygments_lexer": "ipython3",
   "version": "3.5.2"
  }
 },
 "nbformat": 4,
 "nbformat_minor": 2
}
