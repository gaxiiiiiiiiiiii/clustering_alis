{
 "cells": [
  {
   "cell_type": "code",
   "execution_count": 27,
   "metadata": {
    "collapsed": false
   },
   "outputs": [],
   "source": [
    "from selenium import webdriver\n",
    "from selenium.webdriver.support.ui import WebDriverWait\n",
    "from selenium.webdriver.support import expected_conditions as EC\n",
    "from selenium.webdriver.common.by import By\n",
    "from urllib.request import urlopen\n",
    "from urllib.parse import urlparse\n",
    "import json\n",
    "from bs4 import BeautifulSoup as bs\n",
    "import os\n",
    "import datetime\n",
    "import MeCab\n",
    "import pickle\n",
    "from Classifier import naivebayes"
   ]
  },
  {
   "cell_type": "code",
   "execution_count": 2,
   "metadata": {
    "collapsed": true
   },
   "outputs": [],
   "source": [
    "def get_driver():\n",
    "    driver_path = os.getcwd() + \"/chromedriver\"\n",
    "    options = webdriver.ChromeOptions()\n",
    "    options.add_argument(\"--mute-audio\")\n",
    "    driver = webdriver.Chrome(driver_path,chrome_options=options)\n",
    "    driver.maximize_window()\n",
    "    return driver"
   ]
  },
  {
   "cell_type": "code",
   "execution_count": 3,
   "metadata": {
    "collapsed": false
   },
   "outputs": [],
   "source": [
    "def get_url_list(driver,url):\n",
    "    driver.get(url)\n",
    "    WebDriverWait(driver, 10).until(EC.presence_of_element_located((By.CLASS_NAME,\"d-table-cell\")))\n",
    "    trs = driver.find_elements_by_class_name(\"d-md-none\")\n",
    "    url_list = []\n",
    "    for tr in trs:\n",
    "            link = tr.find_element_by_tag_name(\"a\")\n",
    "            article_url = link.get_attribute(\"href\")\n",
    "            if \"https://alis.to/\" in article_url:\n",
    "                url_list.append(article_url)\n",
    "    return url_list"
   ]
  },
  {
   "cell_type": "code",
   "execution_count": 4,
   "metadata": {
    "collapsed": false
   },
   "outputs": [],
   "source": [
    "def get_text_list(url_list):\n",
    "    api_url = \"https://alis.to/api/articles/%s\"\n",
    "    text_list = []\n",
    "    for url in url_list:\n",
    "        parsed = urlparse(url)\n",
    "        article_id = parsed.path.split(\"/\")[3]\n",
    "        raw_article_data  = urlopen(api_url % article_id).read().decode(\"utf-8\")\n",
    "        json_article_data = json.loads(raw_article_data)                    \n",
    "        body     = json_article_data[\"body\"]\n",
    "        text = bs(body,\"html5lib\",from_encoding=\"utf-8\").text.replace(\"\\n\",\"\").replace(\" \", \"\").replace(\"\\u3000\",\"\")\n",
    "        text_list.append(text)\n",
    "    return text_list"
   ]
  },
  {
   "cell_type": "code",
   "execution_count": 5,
   "metadata": {
    "collapsed": false
   },
   "outputs": [
    {
     "name": "stderr",
     "output_type": "stream",
     "text": [
      "/Users/gaxi/.pyenv/versions/3.5.2/envs/jupyter/lib/python3.5/site-packages/bs4/__init__.py:146: UserWarning: You provided Unicode markup but also provided a value for from_encoding. Your from_encoding will be ignored.\n",
      "  warnings.warn(\"You provided Unicode markup but also provided a value for from_encoding. Your from_encoding will be ignored.\")\n"
     ]
    }
   ],
   "source": [
    "url = \"https://alis.ocrybit.com/topic/?id=tech\"\n",
    "driver = get_driver()\n",
    "url_list = get_url_list(driver,url)\n",
    "tech_text_list = get_text_list(url_list)"
   ]
  },
  {
   "cell_type": "code",
   "execution_count": 11,
   "metadata": {
    "collapsed": true
   },
   "outputs": [],
   "source": [
    "from get_ranking import get_ranking"
   ]
  },
  {
   "cell_type": "code",
   "execution_count": 12,
   "metadata": {
    "collapsed": false
   },
   "outputs": [],
   "source": [
    "df = get_ranking(27)"
   ]
  },
  {
   "cell_type": "code",
   "execution_count": 21,
   "metadata": {
    "collapsed": false
   },
   "outputs": [],
   "source": [
    "nontech_url_list = []\n",
    "for i in df.iterrows():\n",
    "    url = i[1][\"url\"]\n",
    "    if url not in url_list:\n",
    "        nontech_url_list.append(url)"
   ]
  },
  {
   "cell_type": "code",
   "execution_count": 24,
   "metadata": {
    "collapsed": false
   },
   "outputs": [
    {
     "name": "stderr",
     "output_type": "stream",
     "text": [
      "/Users/gaxi/.pyenv/versions/3.5.2/envs/jupyter/lib/python3.5/site-packages/bs4/__init__.py:146: UserWarning: You provided Unicode markup but also provided a value for from_encoding. Your from_encoding will be ignored.\n",
      "  warnings.warn(\"You provided Unicode markup but also provided a value for from_encoding. Your from_encoding will be ignored.\")\n"
     ]
    }
   ],
   "source": [
    "nontech_text_list = get_text_list(nontech_url_list)"
   ]
  },
  {
   "cell_type": "code",
   "execution_count": 110,
   "metadata": {
    "collapsed": true
   },
   "outputs": [],
   "source": [
    "def train_texts(cl,text_list,cat):\n",
    "    for text in text_list:\n",
    "        cl.train(text,cat)"
   ]
  },
  {
   "cell_type": "code",
   "execution_count": 118,
   "metadata": {
    "collapsed": false
   },
   "outputs": [],
   "source": [
    "cl = naivebayes()\n",
    "train_texts(cl,tech_text_list,\"tech\")\n",
    "train_texts(cl,nontech_text_list,\"non\")"
   ]
  },
  {
   "cell_type": "code",
   "execution_count": 125,
   "metadata": {
    "collapsed": true
   },
   "outputs": [],
   "source": [
    "with open('category_count.pickle', mode='wb') as f:\n",
    "    pickle.dump(cl.cc, f)\n",
    "with open('feature_count.pickle', mode='wb') as f:\n",
    "    pickle.dump(cl.fc, f)"
   ]
  }
 ],
 "metadata": {
  "kernelspec": {
   "display_name": "Python 3",
   "language": "python",
   "name": "python3"
  },
  "language_info": {
   "codemirror_mode": {
    "name": "ipython",
    "version": 3
   },
   "file_extension": ".py",
   "mimetype": "text/x-python",
   "name": "python",
   "nbconvert_exporter": "python",
   "pygments_lexer": "ipython3",
   "version": "3.5.2"
  }
 },
 "nbformat": 4,
 "nbformat_minor": 2
}
